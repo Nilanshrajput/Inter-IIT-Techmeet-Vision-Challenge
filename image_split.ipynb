{
  "nbformat": 4,
  "nbformat_minor": 0,
  "metadata": {
    "colab": {
      "name": "image_split.ipynb",
      "version": "0.3.2",
      "provenance": []
    },
    "kernelspec": {
      "name": "python3",
      "display_name": "Python 3"
    },
    "accelerator": "GPU"
  },
  "cells": [
    {
      "metadata": {
        "id": "l5OLgx1QiA01",
        "colab_type": "code",
        "colab": {}
      },
      "cell_type": "code",
      "source": [
        "import tensorflow as tf\n",
        "import os\n",
        "import numpy as np\n",
        "import json\n",
        "from PIL import Image\n",
        "import matplotlib\n",
        "import matplotlib.pyplot as plt\n",
        "import pandas as pd\n",
        "from matplotlib.collections import PatchCollection\n",
        "import cv2 as cv\n",
        "from skimage import io\n",
        "from skimage.segmentation import quickshift\n",
        "import glob\n",
        "import seaborn as sns"
      ],
      "execution_count": 0,
      "outputs": []
    },
    {
      "metadata": {
        "id": "8rDBAK88lqeE",
        "colab_type": "code",
        "colab": {}
      },
      "cell_type": "code",
      "source": [
        "import os\n",
        "import glob\n",
        "import zipfile\n",
        "import functools\n",
        "from skimage import io\n",
        "from skimage.segmentation import quickshift\n",
        "import glob\n",
        "from skimage.transform import rescale, resize, downscale_local_mean\n",
        "\n",
        "from sklearn.model_selection import train_test_split\n",
        "import matplotlib as mpl\n",
        "mpl.rcParams['axes.grid'] = False\n",
        "mpl.rcParams['figure.figsize'] = (12,12)\n",
        "\n",
        "from sklearn.model_selection import train_test_split\n",
        "import matplotlib.image as mpimg\n",
        "import pandas as pd\n",
        "from PIL import Image\n",
        "import cv2 as cv"
      ],
      "execution_count": 0,
      "outputs": []
    },
    {
      "metadata": {
        "id": "4OlHqFh8ibR4",
        "colab_type": "code",
        "colab": {}
      },
      "cell_type": "code",
      "source": [
        "%matplotlib inline"
      ],
      "execution_count": 0,
      "outputs": []
    },
    {
      "metadata": {
        "id": "a_5ZomZnijZ8",
        "colab_type": "code",
        "outputId": "e2c9ab0e-fe6a-463f-e3f6-3e5f4e961297",
        "colab": {
          "base_uri": "https://localhost:8080/",
          "height": 124
        }
      },
      "cell_type": "code",
      "source": [
        "!apt-get install -y -qq software-properties-common python-software-properties module-init-tools\n",
        "!add-apt-repository -y ppa:alessandro-strada/ppa 2>&1 > /dev/null\n",
        "!apt-get update -qq 2>&1 > /dev/null\n",
        "!apt-get -y install -qq google-drive-ocamlfuse fuse\n",
        "from google.colab import auth\n",
        "auth.authenticate_user()\n",
        "from oauth2client.client import GoogleCredentials\n",
        "creds = GoogleCredentials.get_application_default()\n",
        "import getpass\n",
        "!google-drive-ocamlfuse -headless -id={creds.client_id} -secret={creds.client_secret} < /dev/null 2>&1 | grep URL\n",
        "vcode = getpass.getpass()\n",
        "!echo {vcode} | google-drive-ocamlfuse -headless -id={creds.client_id} -secret={creds.client_secret}\n",
        "\n"
      ],
      "execution_count": 7,
      "outputs": [
        {
          "output_type": "stream",
          "text": [
            "E: Package 'python-software-properties' has no installation candidate\n",
            "Please, open the following URL in a web browser: https://accounts.google.com/o/oauth2/auth?client_id=32555940559.apps.googleusercontent.com&redirect_uri=urn%3Aietf%3Awg%3Aoauth%3A2.0%3Aoob&scope=https%3A%2F%2Fwww.googleapis.com%2Fauth%2Fdrive&response_type=code&access_type=offline&approval_prompt=force\n",
            "··········\n",
            "Please, open the following URL in a web browser: https://accounts.google.com/o/oauth2/auth?client_id=32555940559.apps.googleusercontent.com&redirect_uri=urn%3Aietf%3Awg%3Aoauth%3A2.0%3Aoob&scope=https%3A%2F%2Fwww.googleapis.com%2Fauth%2Fdrive&response_type=code&access_type=offline&approval_prompt=force\n",
            "Please enter the verification code: Access token retrieved correctly.\n"
          ],
          "name": "stdout"
        }
      ]
    },
    {
      "metadata": {
        "id": "sC8hackhjgtk",
        "colab_type": "code",
        "colab": {}
      },
      "cell_type": "code",
      "source": [
        "!mkdir -p drive\n",
        "!google-drive-ocamlfuse drive"
      ],
      "execution_count": 0,
      "outputs": []
    },
    {
      "metadata": {
        "id": "qbpGT58hi3HU",
        "colab_type": "code",
        "colab": {}
      },
      "cell_type": "code",
      "source": [
        "PATH=\"drive/inter_iit/conv_data\"\n",
        "img_dir = os.path.join(PATH, \"sat\")\n",
        "label_dir = os.path.join(PATH, \"gt\")"
      ],
      "execution_count": 0,
      "outputs": []
    },
    {
      "metadata": {
        "id": "qvIIArucioU7",
        "colab_type": "code",
        "colab": {}
      },
      "cell_type": "code",
      "source": [
        "def scale_percentile(matrix):\n",
        "    \"\"\"Fixes the pixel value range to 2%-98% original distribution of values\"\"\"\n",
        "    orig_shape = matrix.shape\n",
        "    matrix = np.reshape(matrix, [matrix.shape[0]*matrix.shape[1], 3]).astype(float)\n",
        "    \n",
        "    # Get 2nd and 98th percentile\n",
        "    mins = np.percentile(matrix, 1, axis=0)\n",
        "    maxs = np.percentile(matrix, 99, axis=0) - mins\n",
        "    \n",
        "    matrix = (matrix - mins[None,:])/maxs[None,:]\n",
        "    matrix = np.reshape(matrix, orig_shape)\n",
        "    matrix = matrix.clip(0,1)\n",
        "    return matrix\n",
        "\n",
        "def scale_percentile_without_normalization(matrix):\n",
        "    \"\"\"Fixes the pixel value range to 2%-98% original distribution of values\"\"\"\n",
        "    orig_shape = matrix.shape\n",
        "    matrix = np.reshape(matrix, [matrix.shape[0]*matrix.shape[1], 3]).astype(float)\n",
        "    \n",
        "    # Get 2nd and 98th percentile\n",
        "    mins = np.percentile(matrix, 1, axis=0)\n",
        "    maxs = np.percentile(matrix, 99, axis=0) - mins\n",
        "    \n",
        "    matrix = (matrix - mins[None,:])/maxs[None,:]\n",
        "    matrix = np.reshape(matrix, orig_shape)\n",
        "    #matrix = matrix.clip(0,1)\n",
        "    return matrix\n",
        "def stretch_8bit(bands, lower_percent=2, higher_percent=98):\n",
        "    out = np.z|eros_like(bands).astype(np.float32)\n",
        "    for i in range(3):\n",
        "        a = 0\n",
        "        b = 1\n",
        "        c = np.percentile(bands[:, :, i], lower_percent)\n",
        "        d = np.percentile(bands[:, :, i], higher_percent)\n",
        "        t = a + (bands[:, :, i] - c) * (b - a) / (d - c)\n",
        "        t[t < a] = a\n",
        "        t[t > b] = b\n",
        "        out[:, :, i] = t\n",
        "    return out.astype(np.float32)"
      ],
      "execution_count": 0,
      "outputs": []
    },
    {
      "metadata": {
        "id": "tbAaXl3vi_tz",
        "colab_type": "code",
        "outputId": "117a1f38-9487-4587-a03f-6f6ce14c0dba",
        "colab": {
          "base_uri": "https://localhost:8080/",
          "height": 54
        }
      },
      "cell_type": "code",
      "source": [
        "'''\n",
        "mypath = 'drive/inter_iit/conv_data/gt'\n",
        "onlyfiles = [f for f in os.listdir(mypath) if os.path.isfile(os.path.join(mypath, f))]\n",
        "sz=(1024,1024)\n",
        "for n in range(0, len(onlyfiles)):\n",
        "    \n",
        "    fname=os.path.join(label_dir, \"{}.png\".format(n))\n",
        "    os.remove(fname)\n",
        "    print(n)\n",
        "\n",
        "  '''  "
      ],
      "execution_count": 41,
      "outputs": [
        {
          "output_type": "execute_result",
          "data": {
            "text/plain": [
              "'\\nmypath = \\'drive/inter_iit/conv_data/gt\\'\\nonlyfiles = [f for f in os.listdir(mypath) if os.path.isfile(os.path.join(mypath, f))]\\nsz=(1024,1024)\\nfor n in range(0, len(onlyfiles)):\\n    \\n    fname=os.path.join(label_dir, \"{}.png\".format(n))\\n    os.remove(fname)\\n    print(n)\\n\\n  '"
            ]
          },
          "metadata": {
            "tags": []
          },
          "execution_count": 41
        }
      ]
    },
    {
      "metadata": {
        "id": "LlgpTEQJjFN0",
        "colab_type": "code",
        "outputId": "f4c4bce0-2992-4d6f-c911-555a16ef3b7d",
        "colab": {
          "base_uri": "https://localhost:8080/",
          "height": 54
        }
      },
      "cell_type": "code",
      "source": [
        "'''\n",
        "mypath2 = 'drive/inter_iit/conv_data/sat'\n",
        "onlyfiles = [f for f in os.listdir(mypath) if os.path.isfile(os.path.join(mypath2, f))]\n",
        "sz=(1024,1024)\n",
        "for n in range(0, len(onlyfiles)):\n",
        "    \n",
        "    fname=os.path.join(img_dir, \"{}.png\".format(n))\n",
        "    os.remove(fname)\n",
        "    print(n)\n",
        "    \n",
        "'''\n"
      ],
      "execution_count": 42,
      "outputs": [
        {
          "output_type": "execute_result",
          "data": {
            "text/plain": [
              "'\\nmypath2 = \\'drive/inter_iit/conv_data/sat\\'\\nonlyfiles = [f for f in os.listdir(mypath) if os.path.isfile(os.path.join(mypath2, f))]\\nsz=(1024,1024)\\nfor n in range(0, len(onlyfiles)):\\n    \\n    fname=os.path.join(img_dir, \"{}.png\".format(n))\\n    os.remove(fname)\\n    print(n)\\n    \\n'"
            ]
          },
          "metadata": {
            "tags": []
          },
          "execution_count": 42
        }
      ]
    },
    {
      "metadata": {
        "id": "ZyqxZsVKjHUr",
        "colab_type": "code",
        "outputId": "b0960f3e-27a7-4168-8fd2-fe30ce86a1ee",
        "colab": {
          "base_uri": "https://localhost:8080/",
          "height": 54
        }
      },
      "cell_type": "code",
      "source": [
        "'''\n",
        "mypath = 'drive/inter_iit/The-Eye-in-the-Sky-dataset/gt'\n",
        "onlyfiles = [f for f in os.listdir(mypath) if os.path.isfile(os.path.join(mypath, f))]\n",
        "sz=(1024,1024)\n",
        "\n",
        "\n",
        "images = []\n",
        "for n in range(0, len(onlyfiles)):\n",
        "    im = io.imread(os.path.join(mypath, onlyfiles[n]))\n",
        "    fname=os.path.join(label_dir, \"{}.png\".format(n))\n",
        "    plt.imsave(fname, im)\n",
        "    im=resize(im, sz)#.reshape(-1)\n",
        "    images.append(im)\n",
        "    print(im.shape)\n",
        "    #df2 = pd.DataFrame(im.reshape(-1))\n",
        "    #df = pd.concat([df, df2], axis=1, ignore_index=True)\n",
        "    k = k + 1\n",
        "    print(k)\n",
        "#print(df)\n",
        "\n",
        "\n",
        "   \n",
        "images_gt = np.asarray(images)\n",
        "\n",
        "print(images_gt.shape)\n",
        "   \n",
        "\n",
        "\n",
        "'''"
      ],
      "execution_count": 43,
      "outputs": [
        {
          "output_type": "execute_result",
          "data": {
            "text/plain": [
              "'\\nmypath = \\'drive/inter_iit/The-Eye-in-the-Sky-dataset/gt\\'\\nonlyfiles = [f for f in os.listdir(mypath) if os.path.isfile(os.path.join(mypath, f))]\\nsz=(1024,1024)\\n\\n\\nimages = []\\nfor n in range(0, len(onlyfiles)):\\n    im = io.imread(os.path.join(mypath, onlyfiles[n]))\\n    fname=os.path.join(label_dir, \"{}.png\".format(n))\\n    plt.imsave(fname, im)\\n    im=resize(im, sz)#.reshape(-1)\\n    images.append(im)\\n    print(im.shape)\\n    #df2 = pd.DataFrame(im.reshape(-1))\\n    #df = pd.concat([df, df2], axis=1, ignore_index=True)\\n    k = k + 1\\n    print(k)\\n#print(df)\\n\\n\\n   \\nimages_gt = np.asarray(images)\\n\\nprint(images_gt.shape)\\n   \\n\\n\\n'"
            ]
          },
          "metadata": {
            "tags": []
          },
          "execution_count": 43
        }
      ]
    },
    {
      "metadata": {
        "id": "qM80j-9gjJuz",
        "colab_type": "code",
        "outputId": "cc756ded-49b9-4184-9286-c7e0493ff819",
        "colab": {
          "base_uri": "https://localhost:8080/",
          "height": 54
        }
      },
      "cell_type": "code",
      "source": [
        "\n",
        "'''\n",
        "mypath = 'drive/inter_iit/The-Eye-in-the-Sky-dataset/sat'\n",
        "onlyfiles = [f for f in os.listdir(mypath) if os.path.isfile(os.path.join(mypath, f))]\n",
        "\n",
        "\n",
        "images_sat = []\n",
        "\n",
        "for n in range(0, len(onlyfiles)):\n",
        "    im = io.imread(os.path.join(mypath, onlyfiles[n]))\n",
        "    im_rgb=im[...,0:3]\n",
        "    \n",
        "    fixed_im = scale_percentile(im_rgb)\n",
        "    im=fixed_im\n",
        "    print(fixed_im.shape)\n",
        "    fname=os.path.join(img_dir, \"{}.png\".format(n))\n",
        "    plt.imsave(fname, fixed_im)\n",
        "    im=resize(im, sz)#.reshape(-1)\n",
        "    \n",
        "    images_sat.append(im)\n",
        "    print(im.shape)\n",
        "    #df2 = pd.DataFrame(im.reshape(-1))\n",
        "    #df = pd.concat([df, df2], axis=1, ignore_index=True)\n",
        "    \n",
        "    print(n)\n",
        "#print(df)\n",
        "   \n",
        "images_sat = np.asarray(images_sat)\n",
        "print(images_sat[2])\n",
        "\n",
        "print(images_sat.shape)\n",
        "\n",
        "'''\n"
      ],
      "execution_count": 44,
      "outputs": [
        {
          "output_type": "execute_result",
          "data": {
            "text/plain": [
              "'\\nmypath = \\'drive/inter_iit/The-Eye-in-the-Sky-dataset/sat\\'\\nonlyfiles = [f for f in os.listdir(mypath) if os.path.isfile(os.path.join(mypath, f))]\\n\\n\\nimages_sat = []\\n\\nfor n in range(0, len(onlyfiles)):\\n    im = io.imread(os.path.join(mypath, onlyfiles[n]))\\n    im_rgb=im[...,0:3]\\n    \\n    fixed_im = scale_percentile(im_rgb)\\n    im=fixed_im\\n    print(fixed_im.shape)\\n    fname=os.path.join(img_dir, \"{}.png\".format(n))\\n    plt.imsave(fname, fixed_im)\\n    im=resize(im, sz)#.reshape(-1)\\n    \\n    images_sat.append(im)\\n    print(im.shape)\\n    #df2 = pd.DataFrame(im.reshape(-1))\\n    #df = pd.concat([df, df2], axis=1, ignore_index=True)\\n    \\n    print(n)\\n#print(df)\\n   \\nimages_sat = np.asarray(images_sat)\\nprint(images_sat[2])\\n\\nprint(images_sat.shape)\\n\\n'"
            ]
          },
          "metadata": {
            "tags": []
          },
          "execution_count": 44
        }
      ]
    },
    {
      "metadata": {
        "id": "H5UHd6TPsBwp",
        "colab_type": "code",
        "outputId": "7cc63216-a53b-45f9-dc5a-837ad669841c",
        "colab": {
          "base_uri": "https://localhost:8080/",
          "height": 331
        }
      },
      "cell_type": "code",
      "source": [
        "mypath = 'drive/inter_iit/conv_data/gt'\n",
        "onlyfiles = [f for f in os.listdir(mypath) if os.path.isfile(os.path.join(mypath, f))]\n",
        "sz=(1024,1024)\n",
        "\n",
        "\n",
        "images = []\n",
        "for n in range(0, len(onlyfiles)):\n",
        "    im = io.imread(os.path.join(mypath, onlyfiles[n]))[...,0:3]\n",
        "    fname=os.path.join(label_dir, \"{}.png\".format(n))\n",
        "    #plt.imsave(fname, im)\n",
        "    im=resize(im, sz)#.reshape(-1)\n",
        "    images.append(im)\n",
        "    print(im.shape)\n",
        "    #df2 = pd.DataFrame(im.reshape(-1))\n",
        "    #df = pd.concat([df, df2], axis=1, ignore_index=True)\n",
        "    n\n",
        "#print(df)\n",
        "\n",
        "\n",
        "   \n",
        "images_gt = np.asarray(images)\n",
        "\n",
        "print(images_gt.shape)"
      ],
      "execution_count": 45,
      "outputs": [
        {
          "output_type": "stream",
          "text": [
            "/usr/local/lib/python3.6/dist-packages/skimage/transform/_warps.py:84: UserWarning: The default mode, 'constant', will be changed to 'reflect' in skimage 0.15.\n",
            "  warn(\"The default mode, 'constant', will be changed to 'reflect' in \"\n"
          ],
          "name": "stderr"
        },
        {
          "output_type": "stream",
          "text": [
            "(1024, 1024, 3)\n",
            "(1024, 1024, 3)\n",
            "(1024, 1024, 3)\n",
            "(1024, 1024, 3)\n",
            "(1024, 1024, 3)\n",
            "(1024, 1024, 3)\n",
            "(1024, 1024, 3)\n",
            "(1024, 1024, 3)\n",
            "(1024, 1024, 3)\n",
            "(1024, 1024, 3)\n",
            "(1024, 1024, 3)\n",
            "(1024, 1024, 3)\n",
            "(1024, 1024, 3)\n",
            "(1024, 1024, 3)\n",
            "(14, 1024, 1024, 3)\n"
          ],
          "name": "stdout"
        }
      ]
    },
    {
      "metadata": {
        "id": "d1qFbW39rtjJ",
        "colab_type": "code",
        "outputId": "c29d5d03-61af-45fe-82bd-fdca0c2c31ca",
        "colab": {
          "base_uri": "https://localhost:8080/",
          "height": 331
        }
      },
      "cell_type": "code",
      "source": [
        "mypath = 'drive/inter_iit/conv_data/sat'\n",
        "onlyfiles = [f for f in os.listdir(mypath) if os.path.isfile(os.path.join(mypath, f))]\n",
        "\n",
        "\n",
        "images_sat = []\n",
        "\n",
        "for n in range(0, len(onlyfiles)):\n",
        "    im = io.imread(os.path.join(mypath, onlyfiles[n]))[...,0:3]\n",
        "    \n",
        "    \n",
        "    im=resize(im, sz)#.reshape(-1)\n",
        "    \n",
        "    images_sat.append(im)\n",
        "    print(im.shape)\n",
        "    n\n",
        "    \n",
        "\n",
        "images_sat = np.asarray(images_sat)\n",
        "#print(images_sat[2])\n",
        "\n",
        "print(images_sat.shape)"
      ],
      "execution_count": 16,
      "outputs": [
        {
          "output_type": "stream",
          "text": [
            "/usr/local/lib/python3.6/dist-packages/skimage/transform/_warps.py:84: UserWarning: The default mode, 'constant', will be changed to 'reflect' in skimage 0.15.\n",
            "  warn(\"The default mode, 'constant', will be changed to 'reflect' in \"\n"
          ],
          "name": "stderr"
        },
        {
          "output_type": "stream",
          "text": [
            "(1024, 1024, 3)\n",
            "(1024, 1024, 3)\n",
            "(1024, 1024, 3)\n",
            "(1024, 1024, 3)\n",
            "(1024, 1024, 3)\n",
            "(1024, 1024, 3)\n",
            "(1024, 1024, 3)\n",
            "(1024, 1024, 3)\n",
            "(1024, 1024, 3)\n",
            "(1024, 1024, 3)\n",
            "(1024, 1024, 3)\n",
            "(1024, 1024, 3)\n",
            "(1024, 1024, 3)\n",
            "(1024, 1024, 3)\n",
            "(14, 1024, 1024, 3)\n"
          ],
          "name": "stdout"
        }
      ]
    },
    {
      "metadata": {
        "id": "_QnCp4CkuFOj",
        "colab_type": "code",
        "colab": {}
      },
      "cell_type": "code",
      "source": [
        "df_x = pd.DataFrame(images_sat.flatten())\n",
        "df_y = pd.DataFrame(images_gt.flatten())"
      ],
      "execution_count": 0,
      "outputs": []
    },
    {
      "metadata": {
        "id": "NPz8Vx8e0LTV",
        "colab_type": "code",
        "colab": {
          "base_uri": "https://localhost:8080/",
          "height": 34
        },
        "outputId": "ee81a258-4ac0-470a-cb4b-10b0d71d27db"
      },
      "cell_type": "code",
      "source": [
        "print(df_x.shape)"
      ],
      "execution_count": 57,
      "outputs": [
        {
          "output_type": "stream",
          "text": [
            "(44040192, 1)\n"
          ],
          "name": "stdout"
        }
      ]
    },
    {
      "metadata": {
        "id": "9eBbwFI40ZvQ",
        "colab_type": "code",
        "colab": {}
      },
      "cell_type": "code",
      "source": [
        "a=df_x.values"
      ],
      "execution_count": 0,
      "outputs": []
    },
    {
      "metadata": {
        "id": "t51zPXi_0dyP",
        "colab_type": "code",
        "colab": {
          "base_uri": "https://localhost:8080/",
          "height": 166
        },
        "outputId": "32ef0bbd-ef9d-4400-da90-65a9e692c1eb"
      },
      "cell_type": "code",
      "source": [
        "a=a.reshape(14,256,256,3)"
      ],
      "execution_count": 60,
      "outputs": [
        {
          "output_type": "error",
          "ename": "ValueError",
          "evalue": "ignored",
          "traceback": [
            "\u001b[0;31m---------------------------------------------------------------------------\u001b[0m",
            "\u001b[0;31mValueError\u001b[0m                                Traceback (most recent call last)",
            "\u001b[0;32m<ipython-input-60-edc30c4d37ea>\u001b[0m in \u001b[0;36m<module>\u001b[0;34m()\u001b[0m\n\u001b[0;32m----> 1\u001b[0;31m \u001b[0ma\u001b[0m\u001b[0;34m=\u001b[0m\u001b[0ma\u001b[0m\u001b[0;34m.\u001b[0m\u001b[0mreshape\u001b[0m\u001b[0;34m(\u001b[0m\u001b[0;36m14\u001b[0m\u001b[0;34m,\u001b[0m\u001b[0;36m256\u001b[0m\u001b[0;34m,\u001b[0m\u001b[0;36m256\u001b[0m\u001b[0;34m,\u001b[0m\u001b[0;36m4\u001b[0m\u001b[0;34m)\u001b[0m\u001b[0;34m\u001b[0m\u001b[0m\n\u001b[0m",
            "\u001b[0;31mValueError\u001b[0m: cannot reshape array of size 44040192 into shape (14,256,256,4)"
          ]
        }
      ]
    },
    {
      "metadata": {
        "id": "xzXpFOX_jQA0",
        "colab_type": "code",
        "outputId": "252500df-9d2b-4b3b-94e1-ba1d4b16b46f",
        "colab": {
          "base_uri": "https://localhost:8080/",
          "height": 34
        }
      },
      "cell_type": "code",
      "source": [
        "x_train_filenames = []\n",
        "y_train_filenames = []\n",
        "for index in range( 14):\n",
        "  \n",
        "  x_train_filenames.append(os.path.join(img_dir, \"{}.png\".format(index)))\n",
        "  y_train_filenames.append(os.path.join(label_dir, \"{}.png\".format(index)))\n",
        "  #print(index)\n",
        "\n",
        "print(len(x_train_filenames))  "
      ],
      "execution_count": 6,
      "outputs": [
        {
          "output_type": "stream",
          "text": [
            "14\n"
          ],
          "name": "stdout"
        }
      ]
    },
    {
      "metadata": {
        "id": "QL7A02vtqU43",
        "colab_type": "code",
        "colab": {}
      },
      "cell_type": "code",
      "source": [
        "\n",
        "display_num = 5\n",
        "nu=len(x_train_filenames)\n",
        "r_choices = np.random.choice(nu, display_num)\n",
        "\n",
        "plt.figure(figsize=(10, 15))\n",
        "for i in range(0, display_num * 2, 2):\n",
        "  img_num = r_choices[i // 2]\n",
        "  x_pathname = x_train_filenames[img_num]\n",
        "  y_pathname = y_train_filenames[img_num]\n",
        "  \n",
        "  plt.subplot(display_num, 2, i + 1)\n",
        "  print(io.imread(x_train_filenames[img_num])[...,0:3].shape)\n",
        "  plt.imshow((io.imread(x_pathname)[...,0:3]))\n",
        "  plt.title(\"Original Image\")\n",
        "  \n",
        "  example_labels = Image.open(y_pathname)\n",
        "  label_vals = np.unique(example_labels)\n",
        "  #print(np.unique(io.imread(y_train_filenames[img_num])))\n",
        "  plt.subplot(display_num, 2, i + 2)\n",
        "  plt.imshow(example_labels)\n",
        "  plt.title(\"Masked Image\")  \n",
        "  \n",
        "plt.suptitle(\"Examples of Images and their Masks\")\n",
        "plt.show()"
      ],
      "execution_count": 0,
      "outputs": []
    },
    {
      "metadata": {
        "id": "jAJiS5Wb3Nk0",
        "colab_type": "code",
        "colab": {}
      },
      "cell_type": "code",
      "source": [
        "PATH=\"drive/inter_iit/split_data\"\n",
        "img_dir = os.path.join(PATH, \"sat\")\n",
        "label_dir = os.path.join(PATH, \"gt\")"
      ],
      "execution_count": 0,
      "outputs": []
    },
    {
      "metadata": {
        "id": "wBi-UNqqKs6z",
        "colab_type": "code",
        "colab": {}
      },
      "cell_type": "code",
      "source": [
        ""
      ],
      "execution_count": 0,
      "outputs": []
    },
    {
      "metadata": {
        "id": "2sDr-dxhvcGK",
        "colab_type": "code",
        "outputId": "ddda8dc9-2e6a-456b-86a6-2ebafe2839e8",
        "colab": {
          "base_uri": "https://localhost:8080/",
          "height": 259
        }
      },
      "cell_type": "code",
      "source": [
        "\n",
        "h,w=256,256\n",
        "\n",
        "split_sat=[]\n",
        "split_gt=[]\n",
        "t=0\n",
        "for i in range(0, 14):\n",
        "  \n",
        "  img_num=i\n",
        "  x,y=0,0\n",
        "  x_pathname = x_train_filenames[img_num]\n",
        "  y_pathname = y_train_filenames[img_num]\n",
        "  im_sat=io.imread(x_pathname)[...,0:3]\n",
        "  im_gt=io.imread(y_pathname)[...,0:3]\n",
        "  n=i\n",
        "  print(i)\n",
        "  \n",
        "  while 1:\n",
        "    x=0\n",
        "    while 1:\n",
        "      \n",
        "      fname_lab=os.path.join(label_dir, \"{}_{}_{}.png\".format(n,x,y))\n",
        "      fname_img=os.path.join(img_dir, \"{}_{}_{}.png\".format(n,x,y))\n",
        "      a,b,c=im_sat[y:y+h, x:x+w].shape\n",
        "      c,d,f=im_gt[y:y+h, x:x+w].shape\n",
        "      \n",
        "      \n",
        "      if(a==256 and b==256 and c==256 and d==256):\n",
        "        \n",
        "        t=t+1\n",
        "        \n",
        "        #print(t)\n",
        "        if(t==1):\n",
        "          crop_img_x = im_sat[y:y+h, x:x+w]#.flatten()\n",
        "          a=crop_img_x.reshape(1,h*w*3)\n",
        "          #df_sat=pd.DataFrame(a)\n",
        "          crop_img_y = im_gt[y:y+h, x:x+w] \n",
        "          b=crop_img_y.reshape(1,h*w*3)\n",
        "          #df_gt=pd.DataFrame(b)\n",
        "          #print(\"dddddddddd\")\n",
        "        else:\n",
        "          crop_img_x = im_sat[y:y+h, x:x+w]#.flatten()\n",
        "          a=crop_img_x.reshape(1,h*w*3)\n",
        "          #temp=pd.DataFrame(a)\n",
        "          #df_sat = pd.concat([df_sat, temp], axis=0, ignore_index=True)\n",
        "          #plt.imsave(fname_img,crop_img_x)\n",
        "          #print(crop_img_y.shape)\n",
        "          split_sat.append(crop_img_x)\n",
        "\n",
        "          crop_img_y = im_gt[y:y+h, x:x+w]#.flatten()\n",
        "          b=crop_img_y.reshape(1,h*w*3)\n",
        "          #temp2=pd.DataFrame(b)\n",
        "          #df_gt = pd.concat([df_gt, temp2], axis=0, ignore_index=True)\n",
        "          #plt.imsave(fname_lab,crop_img_y)\n",
        "          split_gt.append(crop_img_y)\n",
        "      x=x+40\n",
        "     # print(x)\n",
        "      if(x>=750):\n",
        "        break\n",
        "    y=y+40\n",
        "    if(y>=750):\n",
        "      break\n",
        "      \n",
        "    \n",
        "  \n",
        " "
      ],
      "execution_count": 7,
      "outputs": [
        {
          "output_type": "stream",
          "text": [
            "0\n",
            "1\n",
            "2\n",
            "3\n",
            "4\n",
            "5\n",
            "6\n",
            "7\n",
            "8\n",
            "9\n",
            "10\n",
            "11\n",
            "12\n",
            "13\n"
          ],
          "name": "stdout"
        }
      ]
    },
    {
      "metadata": {
        "id": "e1bAcVjsArLB",
        "colab_type": "code",
        "colab": {}
      },
      "cell_type": "code",
      "source": [
        "\n",
        "split_sat = np.asarray(split_sat)\n",
        "split_gt = np.asarray(split_gt)"
      ],
      "execution_count": 0,
      "outputs": []
    },
    {
      "metadata": {
        "id": "lYc4aLjY9jD-",
        "colab_type": "code",
        "colab": {}
      },
      "cell_type": "code",
      "source": [
        ""
      ],
      "execution_count": 0,
      "outputs": []
    },
    {
      "metadata": {
        "id": "unWflTud9jRa",
        "colab_type": "code",
        "colab": {}
      },
      "cell_type": "code",
      "source": [
        "print(df_sat.shape)\n",
        "print(df_sat)\n",
        "\n"
      ],
      "execution_count": 0,
      "outputs": []
    },
    {
      "metadata": {
        "id": "joMQCFcv9Fnm",
        "colab_type": "code",
        "colab": {}
      },
      "cell_type": "code",
      "source": [
        "df_sat.to_csv('drive/inter_iit/split_data/sat/df_sat.csv')"
      ],
      "execution_count": 0,
      "outputs": []
    },
    {
      "metadata": {
        "id": "uVqb6ouY9ZNC",
        "colab_type": "code",
        "colab": {}
      },
      "cell_type": "code",
      "source": [
        "df_gt.to_csv('drive/inter_iit/split_data/gt/df_gt.csv')"
      ],
      "execution_count": 0,
      "outputs": []
    },
    {
      "metadata": {
        "id": "Qa-YTKeMgwpG",
        "colab_type": "code",
        "colab": {
          "base_uri": "https://localhost:8080/",
          "height": 34
        },
        "outputId": "949d3df0-6007-473a-b82d-cacb0706a8ef"
      },
      "cell_type": "code",
      "source": [
        "print(split_sat.shape)"
      ],
      "execution_count": 14,
      "outputs": [
        {
          "output_type": "stream",
          "text": [
            "(3724, 256, 256, 3)\n"
          ],
          "name": "stdout"
        }
      ]
    },
    {
      "metadata": {
        "id": "qIwVI0EvKfBr",
        "colab_type": "code",
        "colab": {}
      },
      "cell_type": "code",
      "source": [
        "df_x = pd.DataFrame.from_records(split_sat)\n",
        "df_y = pd.DataFrame.from_records(split_gt)\n",
        "print(df_x[1])\n"
      ],
      "execution_count": 0,
      "outputs": []
    },
    {
      "metadata": {
        "id": "xvZjitZIQ5I4",
        "colab_type": "code",
        "colab": {}
      },
      "cell_type": "code",
      "source": [
        "\n",
        "img_shape = (256, 256, 3)\n",
        "batch_size = 64\n",
        "epochs = 5"
      ],
      "execution_count": 0,
      "outputs": []
    },
    {
      "metadata": {
        "id": "TlyvgG2QTaF_",
        "colab_type": "code",
        "colab": {}
      },
      "cell_type": "code",
      "source": [
        "#x_train, x_val, y_train, y_val= train_test_split(df_sat.values, df_gt.values, test_size=0.3, random_state=42)"
      ],
      "execution_count": 0,
      "outputs": []
    },
    {
      "metadata": {
        "id": "7kopHamAHaDI",
        "colab_type": "code",
        "colab": {}
      },
      "cell_type": "code",
      "source": [
        "x_train, x_val, y_train, y_val= train_test_split(split_sat, split_gt, test_size=0.3, random_state=42)"
      ],
      "execution_count": 0,
      "outputs": []
    },
    {
      "metadata": {
        "id": "hktgRSy3CqOH",
        "colab_type": "code",
        "colab": {
          "base_uri": "https://localhost:8080/",
          "height": 34
        },
        "outputId": "a97d0f19-c9d0-4ddb-e869-beed2325d27a"
      },
      "cell_type": "code",
      "source": [
        "num_train_examples = len(x_train)\n",
        "num_val_examples = len(x_val)\n",
        "print(num_train_examples)"
      ],
      "execution_count": 12,
      "outputs": [
        {
          "output_type": "stream",
          "text": [
            "2606\n"
          ],
          "name": "stdout"
        }
      ]
    },
    {
      "metadata": {
        "id": "amUwS2K9QIZp",
        "colab_type": "code",
        "colab": {
          "base_uri": "https://localhost:8080/",
          "height": 34
        },
        "outputId": "f937e82a-3995-4c76-c745-39f7bfab0342"
      },
      "cell_type": "code",
      "source": [
        "\n",
        "from __future__ import division\n",
        "\n",
        "import numpy as np\n",
        "from keras.models import Model\n",
        "from keras.layers import Input, merge, Convolution2D, MaxPooling2D, UpSampling2D, Cropping2D\n",
        "\n",
        "from keras import backend as K\n",
        "\n",
        "import keras\n",
        "import h5py\n",
        "\n",
        "from keras.layers.normalization import BatchNormalization\n",
        "\n",
        "\n",
        "from keras.optimizers import Nadam\n",
        "from keras.callbacks import History\n",
        "import pandas as pd\n",
        "from keras.backend import categorical_crossentropy\n",
        "\n",
        "import datetime\n",
        "import os\n",
        "\n",
        "import random\n",
        "import threading\n",
        "from tensorflow.python.keras import layers\n",
        "from keras.models import model_from_json\n",
        "import tensorflow.contrib as tfcontrib\n",
        "from tensorflow.python.keras import layers\n",
        "from tensorflow.python.keras import losses\n",
        "from tensorflow.python.keras import models\n",
        "from tensorflow.python.keras import backend as K\n",
        "from keras import utils"
      ],
      "execution_count": 13,
      "outputs": [
        {
          "output_type": "stream",
          "text": [
            "Using TensorFlow backend.\n"
          ],
          "name": "stderr"
        }
      ]
    },
    {
      "metadata": {
        "id": "PNKPP1t0QJV2",
        "colab_type": "code",
        "colab": {}
      },
      "cell_type": "code",
      "source": [
        "def conv_block(input_tensor, num_filters):\n",
        "  encoder = layers.Conv2D(num_filters, (3, 3), padding='same')(input_tensor)\n",
        "  encoder = layers.BatchNormalization()(encoder)\n",
        "  encoder = layers.Activation('relu')(encoder)\n",
        "  encoder = layers.Conv2D(num_filters, (3, 3), padding='same')(encoder)\n",
        "  encoder = layers.BatchNormalization()(encoder)\n",
        "  encoder = layers.Activation('relu')(encoder)\n",
        "  return encoder\n",
        "\n",
        "def encoder_block(input_tensor, num_filters):\n",
        "  encoder = conv_block(input_tensor, num_filters)\n",
        "  encoder_pool = layers.MaxPooling2D((2, 2), strides=(2, 2))(encoder)\n",
        "  \n",
        "  return encoder_pool, encoder\n",
        "\n",
        "def decoder_block(input_tensor, concat_tensor, num_filters):\n",
        "  decoder = layers.Conv2DTranspose(num_filters, (2, 2), strides=(2, 2), padding='same')(input_tensor)\n",
        "  decoder = layers.concatenate([concat_tensor, decoder], axis=-1)\n",
        "  decoder = layers.BatchNormalization()(decoder)\n",
        "  decoder = layers.Activation('relu')(decoder)\n",
        "  decoder = layers.Conv2D(num_filters, (3, 3), padding='same')(decoder)\n",
        "  decoder = layers.BatchNormalization()(decoder)\n",
        "  decoder = layers.Activation('relu')(decoder)\n",
        "  decoder = layers.Conv2D(num_filters, (3, 3), padding='same')(decoder)\n",
        "  decoder = layers.BatchNormalization()(decoder)\n",
        "  decoder = layers.Activation('relu')(decoder)\n",
        "  return decoder"
      ],
      "execution_count": 0,
      "outputs": []
    },
    {
      "metadata": {
        "id": "Cm-bTpMJQL0U",
        "colab_type": "code",
        "outputId": "ef2c4de8-c0dc-4a31-c478-e69783e66bca",
        "colab": {
          "base_uri": "https://localhost:8080/",
          "height": 52
        }
      },
      "cell_type": "code",
      "source": [
        "inputs = layers.Input(shape=img_shape)\n",
        "\n",
        "# 256\n",
        "print(inputs.shape)\n",
        "encoder0_pool, encoder0 = encoder_block(inputs, 32)\n",
        "# 128\n",
        "print(encoder0_pool.shape)\n",
        "encoder1_pool, encoder1 = encoder_block(encoder0_pool, 64)\n",
        "# 64\n",
        "\n",
        "encoder2_pool, encoder2 = encoder_block(encoder1_pool, 128)\n",
        "# 32\n",
        "\n",
        "encoder3_pool, encoder3 = encoder_block(encoder2_pool, 256)\n",
        "# 16\n",
        "\n",
        "encoder4_pool, encoder4 = encoder_block(encoder3_pool, 512)\n",
        "# 8\n",
        "\n",
        "center = conv_block(encoder4_pool, 1024)\n",
        "# center\n",
        "\n",
        "decoder4 = decoder_block(center, encoder4, 512)\n",
        "# 16\n",
        "\n",
        "decoder3 = decoder_block(decoder4, encoder3, 256)\n",
        "# 32\n",
        "\n",
        "decoder2 = decoder_block(decoder3, encoder2, 128)\n",
        "# 64\n",
        "\n",
        "decoder1 = decoder_block(decoder2, encoder1, 64)\n",
        "# 128\n",
        "\n",
        "decoder0 = decoder_block(decoder1, encoder0, 32)\n",
        "\n",
        "#encoder4_pool, encoder4 = encoder_block(encoder3_pool, 512)\n",
        "outputs = layers.Conv2D(3, (1, 1), activation='sigmoid')(decoder0)\n",
        "\n",
        "\n",
        "\n",
        "\n"
      ],
      "execution_count": 15,
      "outputs": [
        {
          "output_type": "stream",
          "text": [
            "(?, 256, 256, 3)\n",
            "(?, 128, 128, 32)\n"
          ],
          "name": "stdout"
        }
      ]
    },
    {
      "metadata": {
        "id": "dpt32_BYQQU0",
        "colab_type": "code",
        "colab": {}
      },
      "cell_type": "code",
      "source": [
        "model = models.Model(inputs=[inputs], outputs=[outputs])"
      ],
      "execution_count": 0,
      "outputs": []
    },
    {
      "metadata": {
        "id": "zZ2caAOnQUjf",
        "colab_type": "code",
        "colab": {}
      },
      "cell_type": "code",
      "source": [
        "def dice_coeff(y_true, y_pred):\n",
        "    smooth = 1.\n",
        "    # Flatten\n",
        "    y_true_f = tf.reshape(y_true, [-1])\n",
        "    y_pred_f = tf.reshape(y_pred, [-1])\n",
        "    intersection = tf.reduce_sum(y_true_f * y_pred_f)\n",
        "    score = (2. * intersection + smooth) / (tf.reduce_sum(y_true_f) + tf.reduce_sum(y_pred_f) + smooth)\n",
        "    return score"
      ],
      "execution_count": 0,
      "outputs": []
    },
    {
      "metadata": {
        "id": "mzHFoFCGQVMy",
        "colab_type": "code",
        "colab": {}
      },
      "cell_type": "code",
      "source": [
        "def dice_loss(y_true, y_pred):\n",
        "    loss = 1 - dice_coeff(y_true, y_pred)\n",
        "    return loss"
      ],
      "execution_count": 0,
      "outputs": []
    },
    {
      "metadata": {
        "id": "eyeXN4UbQW5T",
        "colab_type": "code",
        "colab": {}
      },
      "cell_type": "code",
      "source": [
        "def bce_dice_loss(y_true, y_pred):\n",
        "    loss = losses.categorical_crossentropy(y_true, y_pred) + dice_loss(y_true, y_pred)\n",
        "    return loss\n"
      ],
      "execution_count": 0,
      "outputs": []
    },
    {
      "metadata": {
        "id": "8-FOrDMEQY1F",
        "colab_type": "code",
        "colab": {}
      },
      "cell_type": "code",
      "source": [
        "def jaccard_coef(y_true, y_pred):\n",
        "    intersection = K.sum(y_true * y_pred, axis=[0, -1, -2])\n",
        "    sum_ = K.sum(y_true + y_pred, axis=[0, -1, -2])\n",
        "\n",
        "    jac = (intersection + smooth) / (sum_ - intersection + smooth)\n",
        "\n",
        "    return K.mean(jac)\n",
        "\n",
        "\n",
        "def jaccard_coef_int(y_true, y_pred):\n",
        "    y_pred_pos = K.round(K.clip(y_pred, 0, 1))\n",
        "\n",
        "    intersection = K.sum(y_true * y_pred_pos, axis=[0, -1, -2])\n",
        "    sum_ = K.sum(y_true + y_pred_pos, axis=[0, -1, -2])\n",
        "\n",
        "    jac = (intersection + smooth) / (sum_ - intersection + smooth)\n",
        "\n",
        "    return K.mean(jac)\n",
        "\n",
        "\n",
        "def jaccard_coef_loss(y_true, y_pred):\n",
        "    return -K.log(jaccard_coef(y_true, y_pred)) + categorical_crossentropy(y_pred, y_true)"
      ],
      "execution_count": 0,
      "outputs": []
    },
    {
      "metadata": {
        "id": "No0IieuVQace",
        "colab_type": "code",
        "colab": {}
      },
      "cell_type": "code",
      "source": [
        "model.compile(optimizer='adam', loss=bce_dice_loss, metrics=[dice_loss])\n",
        "\n",
        "#model.summary()"
      ],
      "execution_count": 0,
      "outputs": []
    },
    {
      "metadata": {
        "id": "jxzHwDh8QceP",
        "colab_type": "code",
        "colab": {}
      },
      "cell_type": "code",
      "source": [
        "save_model_path = 'drive/inter_iit/model/weights.hdf5'\n",
        "cp = tf.keras.callbacks.ModelCheckpoint(filepath=save_model_path, monitor='val_dice_loss', save_best_only=True, verbose=1)"
      ],
      "execution_count": 0,
      "outputs": []
    },
    {
      "metadata": {
        "id": "MuPG3bEUVYYR",
        "colab_type": "code",
        "outputId": "0284145c-8ea4-4fac-c014-0779940afc6e",
        "colab": {
          "base_uri": "https://localhost:8080/",
          "height": 34
        }
      },
      "cell_type": "code",
      "source": [
        "print(x_val.shape)"
      ],
      "execution_count": 64,
      "outputs": [
        {
          "output_type": "stream",
          "text": [
            "(1117, 256, 256, 3)\n"
          ],
          "name": "stdout"
        }
      ]
    },
    {
      "metadata": {
        "id": "qhFzjBmEzHjH",
        "colab_type": "code",
        "colab": {}
      },
      "cell_type": "code",
      "source": [
        "print(x_train[2])"
      ],
      "execution_count": 0,
      "outputs": []
    },
    {
      "metadata": {
        "id": "64qHY5b7CTz-",
        "colab_type": "code",
        "colab": {}
      },
      "cell_type": "code",
      "source": [
        "im_rows = 256 \n",
        "im_cols = 256\n",
        "x_test=x_val\n",
        "y_test=y_val\n",
        "\n",
        "im_shape = (im_rows, im_cols, 3)\n",
        "\n",
        "x_train = x_train.reshape(x_train.shape[0], *im_shape)\n",
        "y_train = y_train.reshape(y_train.shape[0], *im_shape)\n",
        "x_test = x_test.reshape(x_test.shape[0], *im_shape)\n",
        "y_test = x_test.reshape(y_test.shape[0], *im_shape)\n"
      ],
      "execution_count": 0,
      "outputs": []
    },
    {
      "metadata": {
        "id": "gjFWTXNEWeaq",
        "colab_type": "code",
        "outputId": "ea87b14b-680f-4efa-9623-9c7e0a066adc",
        "colab": {
          "base_uri": "https://localhost:8080/",
          "height": 34
        }
      },
      "cell_type": "code",
      "source": [
        "\n",
        "print(x_train.shape)"
      ],
      "execution_count": 67,
      "outputs": [
        {
          "output_type": "stream",
          "text": [
            "(2606, 256, 256, 3)\n"
          ],
          "name": "stdout"
        }
      ]
    },
    {
      "metadata": {
        "id": "f-TQv6IrgiiI",
        "colab_type": "code",
        "colab": {
          "base_uri": "https://localhost:8080/",
          "height": 287
        },
        "outputId": "e710d4fc-efc3-403b-d041-3bad82791ab7"
      },
      "cell_type": "code",
      "source": [
        "\n",
        "plt.imshow(x_train[1])"
      ],
      "execution_count": 68,
      "outputs": [
        {
          "output_type": "execute_result",
          "data": {
            "text/plain": [
              "<matplotlib.image.AxesImage at 0x7fd00a289f28>"
            ]
          },
          "metadata": {
            "tags": []
          },
          "execution_count": 68
        },
        {
          "output_type": "display_data",
          "data": {
            "image/png": "[encoded data removed]",
            "text/plain": [
              "<matplotlib.figure.Figure at 0x7fd00a3832e8>"
            ]
          },
          "metadata": {
            "tags": []
          }
        }
      ]
    },
    {
      "metadata": {
        "id": "TVVcO8yEFpTx",
        "colab_type": "code",
        "colab": {}
      },
      "cell_type": "code",
      "source": [
        "'''parse function to be used. This function is needed to do \n",
        "the preprocessing of data like reshaping ,\n",
        "converting to tensors from numpy arrays ,one-hot encoding ,etc.'''\n",
        "def _parse_(x,y):\n",
        "    x = tf.reshape(x,(784,)) #reshape to 784 as expected.\n",
        "    x = tf.cast(x,tf.float32) #cast to float32 as the weights are float32.\n",
        "    # y = tf.one_hot(y,10) #should be one hot encoded but tensorflow is throwing error .idky??\n",
        "    y = tf.cast(y,tf.int32) #cast to tensor of int32\n",
        "    return (dict({'image':x}),y) #return tuple of dict of feature name with value and label."
      ],
      "execution_count": 0,
      "outputs": []
    },
    {
      "metadata": {
        "id": "j6u-LxrLFpcS",
        "colab_type": "code",
        "colab": {}
      },
      "cell_type": "code",
      "source": [
        "def train_input_fn(x_train,y_train,batch_size=64):\n",
        "    ##Here we are using dataset API.\n",
        "    '''\n",
        "    take the data from tensor_slices i.e. an array of datapoints in simple words.\n",
        "    '''\n",
        "    dataset = tf.data.Dataset.from_tensor_slices((x_train,y_train)) \n",
        "    \n",
        "    \n",
        "    dataset = dataset.map(lambda x,y:_parse_(x,y)).shuffle(buffer_size=128) \\\n",
        "                .batch(batch_size).make_one_shot_iterator()\n",
        "    \n",
        "    return dataset.get_next()"
      ],
      "execution_count": 0,
      "outputs": []
    },
    {
      "metadata": {
        "id": "g9ns2e52FpqC",
        "colab_type": "code",
        "colab": {}
      },
      "cell_type": "code",
      "source": [
        ""
      ],
      "execution_count": 0,
      "outputs": []
    },
    {
      "metadata": {
        "id": "_4xNZN0fQhUA",
        "colab_type": "code",
        "colab": {}
      },
      "cell_type": "code",
      "source": [
        "epochs=5\n",
        "batch_size=64"
      ],
      "execution_count": 0,
      "outputs": []
    },
    {
      "metadata": {
        "id": "PH2gX7_YF7HA",
        "colab_type": "code",
        "colab": {
          "base_uri": "https://localhost:8080/",
          "height": 324
        },
        "outputId": "cfb57601-664a-480c-e506-292d9ae34c15"
      },
      "cell_type": "code",
      "source": [
        "history=model.fit(input_fn=tf.estimator.inputs.numpy_input_fn(dict({'image':x_train}),\n",
        "                                                        np.array(y_train,np.int32),shuffle=True),steps=10)"
      ],
      "execution_count": 31,
      "outputs": [
        {
          "output_type": "error",
          "ename": "TypeError",
          "evalue": "ignored",
          "traceback": [
            "\u001b[0;31m---------------------------------------------------------------------------\u001b[0m",
            "\u001b[0;31mTypeError\u001b[0m                                 Traceback (most recent call last)",
            "\u001b[0;32m<ipython-input-31-d8a3298e486f>\u001b[0m in \u001b[0;36m<module>\u001b[0;34m()\u001b[0m\n\u001b[1;32m      1\u001b[0m history=model.fit(input_fn=tf.estimator.inputs.numpy_input_fn(dict({'image':x_train}),\n\u001b[0;32m----> 2\u001b[0;31m                                                         np.array(y_train,np.int32),shuffle=True),steps=10)\n\u001b[0m",
            "\u001b[0;32m/usr/local/lib/python3.6/dist-packages/tensorflow/python/keras/engine/training.py\u001b[0m in \u001b[0;36mfit\u001b[0;34m(self, x, y, batch_size, epochs, verbose, callbacks, validation_split, validation_data, shuffle, class_weight, sample_weight, initial_epoch, steps_per_epoch, validation_steps, max_queue_size, workers, use_multiprocessing, **kwargs)\u001b[0m\n\u001b[1;32m   1511\u001b[0m       \u001b[0mepochs\u001b[0m \u001b[0;34m=\u001b[0m \u001b[0mkwargs\u001b[0m\u001b[0;34m.\u001b[0m\u001b[0mpop\u001b[0m\u001b[0;34m(\u001b[0m\u001b[0;34m'nb_epoch'\u001b[0m\u001b[0;34m)\u001b[0m\u001b[0;34m\u001b[0m\u001b[0m\n\u001b[1;32m   1512\u001b[0m     \u001b[0;32mif\u001b[0m \u001b[0mkwargs\u001b[0m\u001b[0;34m:\u001b[0m\u001b[0;34m\u001b[0m\u001b[0m\n\u001b[0;32m-> 1513\u001b[0;31m       \u001b[0;32mraise\u001b[0m \u001b[0mTypeError\u001b[0m\u001b[0;34m(\u001b[0m\u001b[0;34m'Unrecognized keyword arguments: '\u001b[0m \u001b[0;34m+\u001b[0m \u001b[0mstr\u001b[0m\u001b[0;34m(\u001b[0m\u001b[0mkwargs\u001b[0m\u001b[0;34m)\u001b[0m\u001b[0;34m)\u001b[0m\u001b[0;34m\u001b[0m\u001b[0m\n\u001b[0m\u001b[1;32m   1514\u001b[0m \u001b[0;34m\u001b[0m\u001b[0m\n\u001b[1;32m   1515\u001b[0m     \u001b[0;31m# Validate and standardize user data.\u001b[0m\u001b[0;34m\u001b[0m\u001b[0;34m\u001b[0m\u001b[0m\n",
            "\u001b[0;31mTypeError\u001b[0m: Unrecognized keyword arguments: {'input_fn': <function numpy_input_fn.<locals>.input_fn at 0x7fd00e9dfe18>, 'steps': 10}"
          ]
        }
      ]
    },
    {
      "metadata": {
        "id": "FrU3nTE_F7cS",
        "colab_type": "code",
        "colab": {
          "base_uri": "https://localhost:8080/",
          "height": 376
        },
        "outputId": "5d3bac6f-a068-4c02-d245-8a6226410bf0"
      },
      "cell_type": "code",
      "source": [
        "import time\n",
        "t1 = time.time()\n",
        "model.fit(input_fn=lambda:train_input_fn(x_train,y_train,64),steps=150)\n",
        "t2= time.time()\n",
        "print('---------{}'.format(t2 - t1))\n",
        "\n"
      ],
      "execution_count": 35,
      "outputs": [
        {
          "output_type": "error",
          "ename": "TypeError",
          "evalue": "ignored",
          "traceback": [
            "\u001b[0;31m---------------------------------------------------------------------------\u001b[0m",
            "\u001b[0;31mTypeError\u001b[0m                                 Traceback (most recent call last)",
            "\u001b[0;32m<ipython-input-35-901c2ff5637e>\u001b[0m in \u001b[0;36m<module>\u001b[0;34m()\u001b[0m\n\u001b[1;32m      1\u001b[0m \u001b[0;32mimport\u001b[0m \u001b[0mtime\u001b[0m\u001b[0;34m\u001b[0m\u001b[0m\n\u001b[1;32m      2\u001b[0m \u001b[0mt1\u001b[0m \u001b[0;34m=\u001b[0m \u001b[0mtime\u001b[0m\u001b[0;34m.\u001b[0m\u001b[0mtime\u001b[0m\u001b[0;34m(\u001b[0m\u001b[0;34m)\u001b[0m\u001b[0;34m\u001b[0m\u001b[0m\n\u001b[0;32m----> 3\u001b[0;31m \u001b[0mmodel\u001b[0m\u001b[0;34m.\u001b[0m\u001b[0mfit\u001b[0m\u001b[0;34m(\u001b[0m\u001b[0minput_fn\u001b[0m\u001b[0;34m=\u001b[0m\u001b[0;32mlambda\u001b[0m\u001b[0;34m:\u001b[0m\u001b[0mtrain_input_fn\u001b[0m\u001b[0;34m(\u001b[0m\u001b[0mx_train\u001b[0m\u001b[0;34m,\u001b[0m\u001b[0my_train\u001b[0m\u001b[0;34m,\u001b[0m\u001b[0;36m64\u001b[0m\u001b[0;34m)\u001b[0m\u001b[0;34m,\u001b[0m\u001b[0msteps\u001b[0m\u001b[0;34m=\u001b[0m\u001b[0;36m150\u001b[0m\u001b[0;34m)\u001b[0m\u001b[0;34m\u001b[0m\u001b[0m\n\u001b[0m\u001b[1;32m      4\u001b[0m \u001b[0mt2\u001b[0m\u001b[0;34m=\u001b[0m \u001b[0mtime\u001b[0m\u001b[0;34m.\u001b[0m\u001b[0mtime\u001b[0m\u001b[0;34m(\u001b[0m\u001b[0;34m)\u001b[0m\u001b[0;34m\u001b[0m\u001b[0m\n\u001b[1;32m      5\u001b[0m \u001b[0mprint\u001b[0m\u001b[0;34m(\u001b[0m\u001b[0;34m'---------{}'\u001b[0m\u001b[0;34m.\u001b[0m\u001b[0mformat\u001b[0m\u001b[0;34m(\u001b[0m\u001b[0mt2\u001b[0m \u001b[0;34m-\u001b[0m \u001b[0mt1\u001b[0m\u001b[0;34m)\u001b[0m\u001b[0;34m)\u001b[0m\u001b[0;34m\u001b[0m\u001b[0m\n",
            "\u001b[0;32m/usr/local/lib/python3.6/dist-packages/tensorflow/python/keras/engine/training.py\u001b[0m in \u001b[0;36mfit\u001b[0;34m(self, x, y, batch_size, epochs, verbose, callbacks, validation_split, validation_data, shuffle, class_weight, sample_weight, initial_epoch, steps_per_epoch, validation_steps, max_queue_size, workers, use_multiprocessing, **kwargs)\u001b[0m\n\u001b[1;32m   1511\u001b[0m       \u001b[0mepochs\u001b[0m \u001b[0;34m=\u001b[0m \u001b[0mkwargs\u001b[0m\u001b[0;34m.\u001b[0m\u001b[0mpop\u001b[0m\u001b[0;34m(\u001b[0m\u001b[0;34m'nb_epoch'\u001b[0m\u001b[0;34m)\u001b[0m\u001b[0;34m\u001b[0m\u001b[0m\n\u001b[1;32m   1512\u001b[0m     \u001b[0;32mif\u001b[0m \u001b[0mkwargs\u001b[0m\u001b[0;34m:\u001b[0m\u001b[0;34m\u001b[0m\u001b[0m\n\u001b[0;32m-> 1513\u001b[0;31m       \u001b[0;32mraise\u001b[0m \u001b[0mTypeError\u001b[0m\u001b[0;34m(\u001b[0m\u001b[0;34m'Unrecognized keyword arguments: '\u001b[0m \u001b[0;34m+\u001b[0m \u001b[0mstr\u001b[0m\u001b[0;34m(\u001b[0m\u001b[0mkwargs\u001b[0m\u001b[0;34m)\u001b[0m\u001b[0;34m)\u001b[0m\u001b[0;34m\u001b[0m\u001b[0m\n\u001b[0m\u001b[1;32m   1514\u001b[0m \u001b[0;34m\u001b[0m\u001b[0m\n\u001b[1;32m   1515\u001b[0m     \u001b[0;31m# Validate and standardize user data.\u001b[0m\u001b[0;34m\u001b[0m\u001b[0;34m\u001b[0m\u001b[0m\n",
            "\u001b[0;31mTypeError\u001b[0m: Unrecognized keyword arguments: {'input_fn': <function <lambda> at 0x7fd00e166f28>, 'steps': 150}"
          ]
        }
      ]
    },
    {
      "metadata": {
        "id": "jODtIq22IOXk",
        "colab_type": "code",
        "colab": {}
      },
      "cell_type": "code",
      "source": [
        "t1 = time.time()\n",
        "model.train(input_fn=lambda:train_input_fn(x_train,y_train,64),steps=251)\n",
        "t2= time.time()\n",
        "print('---------{}'.format(t2 - t1))"
      ],
      "execution_count": 0,
      "outputs": []
    },
    {
      "metadata": {
        "id": "Wfjp1KGQQi6L",
        "colab_type": "code",
        "outputId": "56aa73f7-a38c-4aa5-a216-c2f0bd041d00",
        "colab": {
          "base_uri": "https://localhost:8080/",
          "height": 235
        }
      },
      "cell_type": "code",
      "source": [
        "history = model.fit((x_train/255,y_train/255 ),\n",
        "                   steps_per_epoch=int(np.ceil(num_train_examples / float(batch_size))),\n",
        "                   epochs=epochs,\n",
        "                   validation_data=(x_val/255,y_val/255),\n",
        "                   validation_steps=int(np.ceil(num_val_examples / float(batch_size))),\n",
        "                   callbacks=[cp])"
      ],
      "execution_count": 1,
      "outputs": [
        {
          "output_type": "error",
          "ename": "NameError",
          "evalue": "ignored",
          "traceback": [
            "\u001b[0;31m---------------------------------------------------------------------------\u001b[0m",
            "\u001b[0;31mNameError\u001b[0m                                 Traceback (most recent call last)",
            "\u001b[0;32m<ipython-input-1-d08c3bca77e5>\u001b[0m in \u001b[0;36m<module>\u001b[0;34m()\u001b[0m\n\u001b[0;32m----> 1\u001b[0;31m history = model.fit((x_train/255,y_train/255 ),\n\u001b[0m\u001b[1;32m      2\u001b[0m                    \u001b[0msteps_per_epoch\u001b[0m\u001b[0;34m=\u001b[0m\u001b[0mint\u001b[0m\u001b[0;34m(\u001b[0m\u001b[0mnp\u001b[0m\u001b[0;34m.\u001b[0m\u001b[0mceil\u001b[0m\u001b[0;34m(\u001b[0m\u001b[0mnum_train_examples\u001b[0m \u001b[0;34m/\u001b[0m \u001b[0mfloat\u001b[0m\u001b[0;34m(\u001b[0m\u001b[0mbatch_size\u001b[0m\u001b[0;34m)\u001b[0m\u001b[0;34m)\u001b[0m\u001b[0;34m)\u001b[0m\u001b[0;34m,\u001b[0m\u001b[0;34m\u001b[0m\u001b[0m\n\u001b[1;32m      3\u001b[0m                    \u001b[0mepochs\u001b[0m\u001b[0;34m=\u001b[0m\u001b[0mepochs\u001b[0m\u001b[0;34m,\u001b[0m\u001b[0;34m\u001b[0m\u001b[0m\n\u001b[1;32m      4\u001b[0m                    \u001b[0mvalidation_data\u001b[0m\u001b[0;34m=\u001b[0m\u001b[0;34m(\u001b[0m\u001b[0mx_val\u001b[0m\u001b[0;34m/\u001b[0m\u001b[0;36m255\u001b[0m\u001b[0;34m,\u001b[0m\u001b[0my_val\u001b[0m\u001b[0;34m/\u001b[0m\u001b[0;36m255\u001b[0m\u001b[0;34m)\u001b[0m\u001b[0;34m,\u001b[0m\u001b[0;34m\u001b[0m\u001b[0m\n\u001b[1;32m      5\u001b[0m                    \u001b[0mvalidation_steps\u001b[0m\u001b[0;34m=\u001b[0m\u001b[0mint\u001b[0m\u001b[0;34m(\u001b[0m\u001b[0mnp\u001b[0m\u001b[0;34m.\u001b[0m\u001b[0mceil\u001b[0m\u001b[0;34m(\u001b[0m\u001b[0mnum_val_examples\u001b[0m \u001b[0;34m/\u001b[0m \u001b[0mfloat\u001b[0m\u001b[0;34m(\u001b[0m\u001b[0mbatch_size\u001b[0m\u001b[0;34m)\u001b[0m\u001b[0;34m)\u001b[0m\u001b[0;34m)\u001b[0m\u001b[0;34m,\u001b[0m\u001b[0;34m\u001b[0m\u001b[0m\n",
            "\u001b[0;31mNameError\u001b[0m: name 'model' is not defined"
          ]
        }
      ]
    },
    {
      "metadata": {
        "id": "su-fSUJLQltA",
        "colab_type": "code",
        "colab": {}
      },
      "cell_type": "code",
      "source": [
        "dice = history.history['dice_loss']\n",
        "val_dice = history.history['val_dice_loss']\n",
        "\n",
        "loss = history.history['loss']\n",
        "val_loss = history.history['val_loss']\n",
        "\n",
        "epochs_range = range(epochs)\n",
        "\n",
        "plt.figure(figsize=(16, 8))\n",
        "plt.subplot(1, 2, 1)\n",
        "plt.plot(epochs_range, dice, label='Training Dice Loss')\n",
        "plt.plot(epochs_range, val_dice, label='Validation Dice Loss')\n",
        "plt.legend(loc='upper right')\n",
        "plt.title('Training and Validation Dice Loss')\n",
        "\n",
        "plt.subplot(1, 2, 2)\n",
        "plt.plot(epochs_range, loss, label='Training Loss')\n",
        "plt.plot(epochs_range, val_loss, label='Validation Loss')\n",
        "plt.legend(loc='upper right')\n",
        "plt.title('Training and Validation Loss')\n",
        "\n",
        "plt.show()"
      ],
      "execution_count": 0,
      "outputs": []
    },
    {
      "metadata": {
        "id": "xvxfV1ZmQr9t",
        "colab_type": "code",
        "colab": {}
      },
      "cell_type": "code",
      "source": [
        "# Alternatively, load the weights directly: model.load_weights(save_model_path)\n",
        "model = models.load_model(save_model_path, custom_objects={'bce_dice_loss': bce_dice_loss,\n",
        "                                                           'dice_loss': dice_loss})"
      ],
      "execution_count": 0,
      "outputs": []
    },
    {
      "metadata": {
        "id": "QLWicDNYQtWA",
        "colab_type": "code",
        "colab": {}
      },
      "cell_type": "code",
      "source": [
        "\n",
        "# Let's visualize some of the outputs \n",
        "data_aug_iter = val_ds.make_one_shot_iterator()\n",
        "next_element = data_aug_iter.get_next()\n",
        "\n",
        "# Running next element in our graph will produce a batch of images\n",
        "plt.figure(figsize=(10, 20))\n",
        "for i in range(5):\n",
        "  batch_of_imgs, label = tf.keras.backend.get_session().run(next_element)\n",
        "  img = batch_of_imgs[0]\n",
        "  predicted_label = model.predict(batch_of_imgs)[0]\n",
        "\n",
        "  plt.subplot(5, 3, 3 * i + 1)\n",
        "  plt.imshow(img)\n",
        "  plt.title(\"Input image\")\n",
        "  \n",
        "  plt.subplot(5, 3, 3 * i + 2)\n",
        "  plt.imshow(label[0, :, :, :])\n",
        "  plt.title(\"Actual Mask\")\n",
        "  plt.subplot(5, 3, 3 * i + 3)\n",
        "  plt.imshow(predicted_label[:, :, :])\n",
        "  plt.title(\"Predicted Mask\")\n",
        "plt.suptitle(\"Examples of Input Image, Label, and Prediction\")\n",
        "plt.show()"
      ],
      "execution_count": 0,
      "outputs": []
    }
  ]
}